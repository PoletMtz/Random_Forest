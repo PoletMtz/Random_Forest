{
  "nbformat": 4,
  "nbformat_minor": 0,
  "metadata": {
    "colab": {
      "name": "Random_Forest.ipynb",
      "provenance": []
    },
    "kernelspec": {
      "name": "python3",
      "display_name": "Python 3"
    }
  },
  "cells": [
    {
      "cell_type": "code",
      "metadata": {
        "id": "NZUZexcucxdP",
        "colab_type": "code",
        "colab": {}
      },
      "source": [
        "from sklearn.ensemble import RandomForestRegressor #Libreria para la creación del bosque de decisión\n",
        "from sklearn.metrics import mean_absolute_error #Libreria que permite calcular el error medio absoluto\n",
        "from sklearn.model_selection import train_test_split #Libreria para entrenar el modelo y validarlo\n",
        "import pandas as pd #Libreria para exploración y manipulación de datos"
      ],
      "execution_count": 1,
      "outputs": []
    },
    {
      "cell_type": "code",
      "metadata": {
        "id": "rt42jitlcyg4",
        "colab_type": "code",
        "colab": {}
      },
      "source": [
        "url='https://raw.githubusercontent.com/UlisesGonzalezP/GoogleColab/master/melb_data.csv'#Importa los datos  utilizar desde github\n",
        "melbourne_data =pd.read_csv(url) #Carga los datos del archivo melb_data.csv en melbourne_data\n",
        "melbourne_data = melbourne_data.dropna(axis=0) #Elimina los valores faltantes (na=no disponible)\n",
        "y = melbourne_data.Price #Asigna la columna a predecir (Price a y)\n",
        "melbourne_features = ['Rooms','Bathroom','Landsize','Lattitude','Longtitude'] #Ingresamos las caracteristicas en la lista al modelo de predicción\n",
        "X = melbourne_data[melbourne_features]#Se almacenan los datos del modelo en X"
      ],
      "execution_count": 2,
      "outputs": []
    },
    {
      "cell_type": "code",
      "metadata": {
        "id": "iVWGZrZwc1u-",
        "colab_type": "code",
        "colab": {
          "base_uri": "https://localhost:8080/",
          "height": 34
        },
        "outputId": "585e73b5-b2d8-4dc0-9f5a-ca44b69e800c"
      },
      "source": [
        "\n",
        "# divide los datos en datos de capacitación y validación, tanto para las funciones como para el objetivo\n",
        "# La división se basa en un generador de números aleatorios. Suministrar un valor numérico a\n",
        "# el argumento random_state garantiza que obtengamos la misma división cada vez que\n",
        "# ejecuta este script.\n",
        "train_X,val_X,train_y,val_y = train_test_split(X,y,random_state = 0)\n",
        "melbourne_model = RandomForestRegressor(random_state=1) #Define el modelo con el argumento random state en 1\n",
        "melbourne_model.fit(train_X,train_y) #Modelo de ajuste\n",
        "val_predictions = melbourne_model.predict(val_X) #Obtiene precios predichos en los datos de validación\n",
        "print(mean_absolute_error(val_y,val_predictions)) #Imprime el error medio absoluto"
      ],
      "execution_count": 3,
      "outputs": [
        {
          "output_type": "stream",
          "text": [
            "210016.0\n"
          ],
          "name": "stdout"
        }
      ]
    }
  ]
}